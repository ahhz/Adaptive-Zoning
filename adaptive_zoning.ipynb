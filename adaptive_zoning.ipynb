{
 "cells": [
  {
   "cell_type": "code",
   "execution_count": null,
   "id": "ff77a062-496a-4499-a1c6-b9bf901fdaf1",
   "metadata": {},
   "outputs": [],
   "source": [
    "from random import random\n",
    "from time import time\n",
    "\n",
    "from adaptive_zoning import AdaptiveZoneSystem\n",
    "\n",
    "t = time()\n",
    "\n",
    "# Create a random data set of n points\n",
    "n = 50;\n",
    "origins      = [1 for _ in range(n)]\n",
    "destinations = [1 for _ in range(n)]\n",
    "weight       = [1 for _ in range(n)]\n",
    "points       = [(random(),random()) for _ in range(n)]\n",
    "\n",
    "# Parameters for the sensitivity to distance, and size of neighbourhoods\n",
    "beta = 100\n",
    "nbh_size = 10\n",
    "\n",
    "# Create the zone system\n",
    "zone_system = AdaptiveZoneSystem(origins, destinations, weight, points, beta, nbh_size)\n",
    "\n",
    "print(\"Calculation took: \", time() - t, \" seconds\")"
   ]
  },
  {
   "cell_type": "code",
   "execution_count": null,
   "id": "7afb78bb-36c1-4866-a6f7-5f44a4b9f556",
   "metadata": {
    "scrolled": true
   },
   "outputs": [],
   "source": [
    "import matplotlib.pyplot as plt\n",
    "\n",
    "# Plot samples from the zone system. First select aggregation to a fixed number of zones.\n",
    "# Second plot a neighbourhood of choice\n",
    "fig, ax = plt.subplots(1, 2, figsize=(6, 3))\n",
    "zone_system.plot_n_clusters_voronoi(10, ax[0])\n",
    "zone_system.plot_neighbourhood_voronoi(3, ax[1])\n",
    "plt.show()"
   ]
  }
 ],
 "metadata": {
  "kernelspec": {
   "display_name": "Python 3 (ipykernel)",
   "language": "python",
   "name": "python3"
  },
  "language_info": {
   "codemirror_mode": {
    "name": "ipython",
    "version": 3
   },
   "file_extension": ".py",
   "mimetype": "text/x-python",
   "name": "python",
   "nbconvert_exporter": "python",
   "pygments_lexer": "ipython3",
   "version": "3.12.7"
  }
 },
 "nbformat": 4,
 "nbformat_minor": 5
}
