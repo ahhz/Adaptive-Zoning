{
 "cells": [
  {
   "cell_type": "code",
   "execution_count": null,
   "id": "07b2860c-379c-4646-a58e-da857490e6a4",
   "metadata": {},
   "outputs": [],
   "source": [
    "# If you do not have these datafiles yet, use the adaptive_zoning_preprocess_EW_data\n",
    "# notebook to download and preprocess the data.\n",
    "\n",
    "import geopandas as gpd\n",
    "import pandas as pd\n",
    "\n",
    "centroid_data = gpd.read_parquet('data/centroid_data.parquet')\n",
    "commuting_data = pd.read_parquet('data/commuting_data.parquet')"
   ]
  },
  {
   "cell_type": "code",
   "execution_count": null,
   "id": "a2b983c8-04d6-4105-ae09-fe69d5e8a523",
   "metadata": {},
   "outputs": [],
   "source": [
    "from shapely.geometry import Point\n",
    "\n",
    "# Create dictionaries for quick lookup of MSOA coordinates\n",
    "# can probably be done more efficently with pd merge\n",
    "msoa_locations = centroid_data.set_index('msoa11cd')['geometry'].to_dict()\n",
    "\n",
    "weighted_distances = sum(\n",
    "    msoa_locations[origin].distance(msoa_locations[destination]) * commuters\n",
    "    for origin, destination, commuters in zip(\n",
    "        commuting_data['Area of residence'],\n",
    "        commuting_data['Area of workplace'],\n",
    "        commuting_data['Commuters']\n",
    "    )\n",
    ")\n",
    "\n",
    "total_commuters = sum((commuters for commuters in commuting_data['Commuters']))\n",
    "   \n",
    "average_distance = weighted_distances / total_commuters\n",
    "print(average_distance)"
   ]
  },
  {
   "cell_type": "code",
   "execution_count": null,
   "id": "4eb0b8fb-c970-4494-904c-9e49b246c12e",
   "metadata": {},
   "outputs": [],
   "source": [
    "import numpy as np\n",
    "from doubly_constrained_spatial_interaction_model import distance_matrix_from_points\n",
    "from doubly_constrained_spatial_interaction_model import doubly_constrained\n",
    "from doubly_constrained_spatial_interaction_model import calibrate_doubly_constrained\n",
    "\n",
    "# divide units by a 1000 so distances are in km and beta is in a more typical range\n",
    "points = np.array([(point.x/1000, point.y/1000) for point in centroid_data.geometry])\n",
    "pop =  centroid_data['Residential population'].to_numpy()\n",
    "emp =  centroid_data['Workplace population'].to_numpy() \n",
    "distance_matrix = distance_matrix_from_points(points)\n",
    "average_distance = 14464.171110830612 / 1000 # taken from the cell above\n",
    "beta = calibrate_doubly_constrained(pop,emp, distance_matrix, average_distance)\n",
    "trips, av_distance, a, b = doubly_constrained(pop, emp, distance_matrix, beta,verbose = True)\n",
    "print(\"average distance: \", av_distance, \" beta: \", beta)"
   ]
  },
  {
   "cell_type": "code",
   "execution_count": null,
   "id": "6f7d6c0d-fc69-4e8f-a765-7cf963efe220",
   "metadata": {},
   "outputs": [],
   "source": []
  }
 ],
 "metadata": {
  "kernelspec": {
   "display_name": "Python 3 (ipykernel)",
   "language": "python",
   "name": "python3"
  },
  "language_info": {
   "codemirror_mode": {
    "name": "ipython",
    "version": 3
   },
   "file_extension": ".py",
   "mimetype": "text/x-python",
   "name": "python",
   "nbconvert_exporter": "python",
   "pygments_lexer": "ipython3",
   "version": "3.12.7"
  }
 },
 "nbformat": 4,
 "nbformat_minor": 5
}
